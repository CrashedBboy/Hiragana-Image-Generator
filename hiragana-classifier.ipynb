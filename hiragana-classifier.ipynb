{
 "cells": [
  {
   "cell_type": "markdown",
   "id": "5ef11950-ec4e-4c38-8e86-6b2eff1a0a6a",
   "metadata": {},
   "source": [
    "# Hiragana Handwritten Character Classifier"
   ]
  },
  {
   "cell_type": "code",
   "execution_count": 1,
   "id": "6680da12-5d7e-4d37-8677-9bac6051d824",
   "metadata": {},
   "outputs": [],
   "source": [
    "import numpy as np\n",
    "import pandas as pd\n",
    "import os\n",
    "import matplotlib.pyplot as plt\n",
    "import torch\n",
    "import torch.nn as nn\n",
    "from torch import optim\n",
    "from torch.autograd import Variable\n",
    "import math"
   ]
  },
  {
   "cell_type": "markdown",
   "id": "62f00e41-f5fc-4f37-8f0f-7c9f2c5f0414",
   "metadata": {},
   "source": [
    "### Settings"
   ]
  },
  {
   "cell_type": "code",
   "execution_count": 2,
   "id": "e9ff4cb5-1f1f-48fc-8e53-00805cfb55db",
   "metadata": {},
   "outputs": [
    {
     "name": "stdout",
     "output_type": "stream",
     "text": [
      "Using device: NVIDIA GeForce GTX 1060 6GB\n"
     ]
    }
   ],
   "source": [
    "# Japanese compatible font\n",
    "plt.rcParams['font.sans-serif'] = \"Microsoft YaHei\" \n",
    "\n",
    "# Computation device setup\n",
    "device = torch.device('cuda' if torch.cuda.is_available() else 'cpu')\n",
    "if torch.cuda.is_available():\n",
    "    print(f\"Using device: {torch.cuda.get_device_name(0)}\")\n",
    "else:\n",
    "    print(f\"Using device: CPU\")"
   ]
  },
  {
   "cell_type": "code",
   "execution_count": 3,
   "id": "16eca357-7e77-462b-a6ff-a06fae2c6a49",
   "metadata": {},
   "outputs": [],
   "source": [
    "DATASET_DIR = 'Kuzushiji-49'\n",
    "DATASET_TRAIN_X_FILE = 'k49-train-imgs.npz'\n",
    "DATASET_TRAIN_Y_FILE = 'k49-train-labels.npz'\n",
    "DATASET_TEST_X_FILE = 'k49-test-imgs.npz'\n",
    "DATASET_TEST_Y_FILE = 'k49-test-labels.npz'\n",
    "DATASET_CLASSMAP = 'k49_classmap.csv'"
   ]
  },
  {
   "cell_type": "markdown",
   "id": "53a45855-87cb-4a6d-8a01-60b69c3d8717",
   "metadata": {},
   "source": [
    "### Prepare Dataset"
   ]
  },
  {
   "cell_type": "code",
   "execution_count": 4,
   "id": "8d71d751-b285-4e62-890a-3f8bf5a32f4e",
   "metadata": {},
   "outputs": [
    {
     "name": "stdout",
     "output_type": "stream",
     "text": [
      "Training Set: Input shape: torch.Size([232365, 28, 28]). Output shape: torch.Size([232365])\n",
      "Testing Set: Input shape: torch.Size([38547, 28, 28]). Output shape: torch.Size([38547])\n"
     ]
    }
   ],
   "source": [
    "train_images = torch.tensor(np.load(os.path.join(os.getcwd(), DATASET_DIR, DATASET_TRAIN_X_FILE))['arr_0'], dtype=torch.float32)\n",
    "train_labels = torch.tensor(np.load(os.path.join(os.getcwd(), DATASET_DIR, DATASET_TRAIN_Y_FILE))['arr_0'], dtype=torch.int64)\n",
    "test_images = torch.tensor(np.load(os.path.join(os.getcwd(), DATASET_DIR, DATASET_TEST_X_FILE))['arr_0'], dtype=torch.float32)\n",
    "test_labels = torch.tensor(np.load(os.path.join(os.getcwd(), DATASET_DIR, DATASET_TEST_Y_FILE))['arr_0'], dtype=torch.int64)\n",
    "print(f\"Training Set: Input shape: {train_images.shape}. Output shape: {train_labels.shape}\")\n",
    "print(f\"Testing Set: Input shape: {test_images.shape}. Output shape: {test_labels.shape}\")"
   ]
  },
  {
   "cell_type": "code",
   "execution_count": 5,
   "id": "bc0bec0d-20f4-481d-99ae-bbd8ac399719",
   "metadata": {
    "scrolled": true
   },
   "outputs": [
    {
     "data": {
      "text/html": [
       "<div>\n",
       "<style scoped>\n",
       "    .dataframe tbody tr th:only-of-type {\n",
       "        vertical-align: middle;\n",
       "    }\n",
       "\n",
       "    .dataframe tbody tr th {\n",
       "        vertical-align: top;\n",
       "    }\n",
       "\n",
       "    .dataframe thead th {\n",
       "        text-align: right;\n",
       "    }\n",
       "</style>\n",
       "<table border=\"1\" class=\"dataframe\">\n",
       "  <thead>\n",
       "    <tr style=\"text-align: right;\">\n",
       "      <th></th>\n",
       "      <th>index</th>\n",
       "      <th>codepoint</th>\n",
       "      <th>char</th>\n",
       "    </tr>\n",
       "  </thead>\n",
       "  <tbody>\n",
       "    <tr>\n",
       "      <th>0</th>\n",
       "      <td>0</td>\n",
       "      <td>U+3042</td>\n",
       "      <td>あ</td>\n",
       "    </tr>\n",
       "    <tr>\n",
       "      <th>1</th>\n",
       "      <td>1</td>\n",
       "      <td>U+3044</td>\n",
       "      <td>い</td>\n",
       "    </tr>\n",
       "    <tr>\n",
       "      <th>2</th>\n",
       "      <td>2</td>\n",
       "      <td>U+3046</td>\n",
       "      <td>う</td>\n",
       "    </tr>\n",
       "    <tr>\n",
       "      <th>3</th>\n",
       "      <td>3</td>\n",
       "      <td>U+3048</td>\n",
       "      <td>え</td>\n",
       "    </tr>\n",
       "    <tr>\n",
       "      <th>4</th>\n",
       "      <td>4</td>\n",
       "      <td>U+304A</td>\n",
       "      <td>お</td>\n",
       "    </tr>\n",
       "  </tbody>\n",
       "</table>\n",
       "</div>"
      ],
      "text/plain": [
       "   index codepoint char\n",
       "0      0    U+3042    あ\n",
       "1      1    U+3044    い\n",
       "2      2    U+3046    う\n",
       "3      3    U+3048    え\n",
       "4      4    U+304A    お"
      ]
     },
     "execution_count": 5,
     "metadata": {},
     "output_type": "execute_result"
    }
   ],
   "source": [
    "class_map = pd.read_csv(os.path.join(os.getcwd(), DATASET_DIR, DATASET_CLASSMAP))\n",
    "class_map[:5]"
   ]
  },
  {
   "cell_type": "code",
   "execution_count": 6,
   "id": "6b444ac7-6ea4-4cb0-b911-2676a2b68bae",
   "metadata": {},
   "outputs": [
    {
     "data": {
      "image/png": "[encoded data removed]",
      "text/plain": [
       "<Figure size 2000x500 with 20 Axes>"
      ]
     },
     "metadata": {},
     "output_type": "display_data"
    }
   ],
   "source": [
    "figure = plt.figure(figsize=(20, 5))\n",
    "for i in range(1, 21):\n",
    "    img = train_images[i]\n",
    "    label = train_labels[i]\n",
    "    figure.add_subplot(1, 20, i)\n",
    "    plt.title(class_map['char'][int(label)])\n",
    "    plt.axis(\"off\")\n",
    "    plt.imshow(img.squeeze(), cmap=\"gray\")\n",
    "plt.show()"
   ]
  },
  {
   "cell_type": "code",
   "execution_count": 7,
   "id": "54052551-083c-4157-a73b-4b1d7d36c4c8",
   "metadata": {},
   "outputs": [],
   "source": [
    "# Put dataset into device\n",
    "train_images = train_images.to(device)\n",
    "train_labels = train_labels.to(device)\n",
    "test_images = test_images.to(device)\n",
    "test_labels = test_labels.to(device)"
   ]
  },
  {
   "cell_type": "code",
   "execution_count": 8,
   "id": "81fc65ee-141f-40e3-bbe1-5cb630b2b82f",
   "metadata": {},
   "outputs": [],
   "source": [
    "# Convert labels into one-hot encoder\n",
    "train_labels = torch.nn.functional.one_hot(train_labels, num_classes=49).to(torch.float32)\n",
    "test_labels = torch.nn.functional.one_hot(test_labels, num_classes=49).to(torch.float32)"
   ]
  },
  {
   "cell_type": "code",
   "execution_count": 9,
   "id": "7b4e47e9-3192-4c77-80ea-58787e42fb57",
   "metadata": {},
   "outputs": [],
   "source": [
    "# Add one dimension for channel\n",
    "train_images = train_images.unsqueeze(1)\n",
    "test_images = test_images.unsqueeze(1)"
   ]
  },
  {
   "cell_type": "code",
   "execution_count": 10,
   "id": "4c348508-14a1-442e-869a-e3dff6935b92",
   "metadata": {},
   "outputs": [],
   "source": [
    "# Create validation set\n",
    "validation_size = int(train_images.shape[0] * 0.1)\n",
    "validate_images = train_images[-validation_size:]\n",
    "train_images = train_images[:-validation_size]\n",
    "validate_labels = train_labels[-validation_size:]\n",
    "train_labels = train_labels[:-validation_size]"
   ]
  },
  {
   "cell_type": "markdown",
   "id": "8c7c0c6f-0f54-4a63-8c3a-fa3adf5d932e",
   "metadata": {},
   "source": [
    "### Define Network"
   ]
  },
  {
   "cell_type": "code",
   "execution_count": 11,
   "id": "2bd14a39-7ce9-468f-bf88-af44699f75ff",
   "metadata": {},
   "outputs": [],
   "source": [
    "class CNN(nn.Module):\n",
    "    def __init__(self):\n",
    "        super(CNN, self).__init__()\n",
    "        self.conv1 = nn.Sequential(         \n",
    "            nn.Conv2d(\n",
    "                in_channels=1,              \n",
    "                out_channels=20,            \n",
    "                kernel_size=5,              \n",
    "                stride=1,                   \n",
    "                padding=2,                  \n",
    "            ),                              \n",
    "            nn.ReLU(),                      \n",
    "            nn.MaxPool2d(kernel_size=2),    \n",
    "        )\n",
    "        self.conv2 = nn.Sequential(         \n",
    "            nn.Conv2d(\n",
    "                in_channels = 20,\n",
    "                out_channels = 32, # out_channels = 32,\n",
    "                kernel_size = 5,\n",
    "                stride = 1,\n",
    "                padding = 2\n",
    "            ),     \n",
    "            nn.ReLU(),                      \n",
    "            nn.MaxPool2d(kernel_size=2),                \n",
    "        )\n",
    "\n",
    "        self.linear1 = nn.Linear(32 * 7 * 7, 4 * 7 * 7)\n",
    "        self.sigmoid1 = nn.Sigmoid()\n",
    "        self.linear2 = nn.Linear(4 * 7 * 7, 2 * 7 * 7)\n",
    "        self.sigmoid2 = nn.Sigmoid()\n",
    "        self.linear3 = nn.Linear(2 * 7 * 7, 49)\n",
    "        self.softmax_out = nn.Softmax(dim=1)\n",
    "        \n",
    "    def forward(self, x):\n",
    "        x = self.conv1(x)\n",
    "        x = self.conv2(x)\n",
    "        # flatten the output of conv2 to (batch_size, 32 * 7 * 7)\n",
    "        x = x.view(x.size(0), -1)\n",
    "        x = self.linear1(x)\n",
    "        x = self.sigmoid1(x)\n",
    "        x = self.linear2(x)\n",
    "        x = self.sigmoid2(x)\n",
    "        x = self.linear3(x)\n",
    "        output = self.softmax_out(x)\n",
    "        return output"
   ]
  },
  {
   "cell_type": "code",
   "execution_count": 12,
   "id": "9e773152-9bc1-47b2-b7f1-ffe8eb2ed605",
   "metadata": {},
   "outputs": [],
   "source": [
    "class VGG16(nn.Module):\n",
    "    def __init__(self, K1=64, K2=128, K3=256, K4=512, K5=512):\n",
    "        super(VGG16, self).__init__()\n",
    "        self.conv1 = nn.Sequential(         \n",
    "            nn.Conv2d(\n",
    "                in_channels=1, out_channels=K1, kernel_size=3, padding=1,\n",
    "            ),                              \n",
    "            nn.ReLU(),\n",
    "            nn.Conv2d(\n",
    "                in_channels=K1, out_channels=K1, kernel_size=3, padding=1,\n",
    "            ),                              \n",
    "            nn.ReLU(),\n",
    "            nn.MaxPool2d(kernel_size=2), # 28->14\n",
    "        )\n",
    "        self.conv2 = nn.Sequential(         \n",
    "            nn.Conv2d(\n",
    "                in_channels=K1, out_channels=K2, kernel_size=3, padding=1,\n",
    "            ),                              \n",
    "            nn.ReLU(),\n",
    "            nn.Conv2d(\n",
    "                in_channels=K2, out_channels=K2, kernel_size=3, padding=1,\n",
    "            ),                              \n",
    "            nn.ReLU(),\n",
    "            nn.MaxPool2d(kernel_size=2),  # 14 -> 7\n",
    "        )\n",
    "        self.conv3 = nn.Sequential(         \n",
    "            nn.Conv2d(\n",
    "                in_channels=K2, out_channels=K3, kernel_size=3, padding=1,\n",
    "            ),                              \n",
    "            nn.ReLU(),\n",
    "            nn.Conv2d(\n",
    "                in_channels=K3, out_channels=K3, kernel_size=3, padding=1,\n",
    "            ),                              \n",
    "            nn.ReLU(),\n",
    "            nn.Conv2d(\n",
    "                in_channels=K3, out_channels=K3, kernel_size=3, padding=1,\n",
    "            ),                              \n",
    "            nn.ReLU()\n",
    "            # NO MAX-POOLING SINCE HERE\n",
    "        )\n",
    "        self.conv4 = nn.Sequential(         \n",
    "            nn.Conv2d(\n",
    "                in_channels=K3, out_channels=K4, kernel_size=3, padding=1,\n",
    "            ),                              \n",
    "            nn.ReLU(),\n",
    "            nn.Conv2d(\n",
    "                in_channels=K4, out_channels=K4, kernel_size=3, padding=1,\n",
    "            ),                              \n",
    "            nn.ReLU(),\n",
    "            nn.Conv2d(\n",
    "                in_channels=K4, out_channels=K4, kernel_size=3, padding=1,\n",
    "            ),                              \n",
    "            nn.ReLU()\n",
    "            # NO MAX-POOLING\n",
    "        )\n",
    "        self.conv5 = nn.Sequential(         \n",
    "            nn.Conv2d(\n",
    "                in_channels=K4, out_channels=K5, kernel_size=3, padding=1,\n",
    "            ),                              \n",
    "            nn.ReLU(),\n",
    "            nn.Conv2d(\n",
    "                in_channels=K5, out_channels=K5, kernel_size=3, padding=1,\n",
    "            ),                              \n",
    "            nn.ReLU(),\n",
    "            nn.Conv2d(\n",
    "                in_channels=K5, out_channels=K5, kernel_size=3, padding=1,\n",
    "            ),                              \n",
    "            nn.ReLU()\n",
    "            # NO MAX-POOLING\n",
    "        )\n",
    "\n",
    "        self.linear1 = nn.Linear(K5 * 7 * 7, 1024)\n",
    "        self.sigmoid1 = nn.Sigmoid()\n",
    "        self.linear2 = nn.Linear(1024, 256)\n",
    "        self.sigmoid2 = nn.Sigmoid()\n",
    "        self.linear3 = nn.Linear(256, 49)\n",
    "        self.softmax_out = nn.Softmax(dim=1)\n",
    "        \n",
    "    def forward(self, x):\n",
    "        x = self.conv1(x)\n",
    "        x = self.conv2(x)\n",
    "        x = self.conv3(x)\n",
    "        x = self.conv4(x)\n",
    "        x = self.conv5(x)\n",
    "        # flatten the output of conv2 to (batch_size, kernel num * wid * height)\n",
    "        x = x.view(x.size(0), -1)\n",
    "        x = self.linear1(x)\n",
    "        x = self.sigmoid1(x)\n",
    "        x = self.linear2(x)\n",
    "        x = self.sigmoid2(x)\n",
    "        x = self.linear3(x)\n",
    "        output = self.softmax_out(x)\n",
    "        return output"
   ]
  },
  {
   "cell_type": "markdown",
   "id": "9cee5a0a-304b-4375-96ed-7e9225f3162b",
   "metadata": {},
   "source": [
    "### Train & Test"
   ]
  },
  {
   "cell_type": "code",
   "execution_count": 13,
   "id": "aa317a47-415b-4d01-89a6-0d4360801045",
   "metadata": {},
   "outputs": [],
   "source": [
    "loss_func = nn.CrossEntropyLoss()"
   ]
  },
  {
   "cell_type": "code",
   "execution_count": 14,
   "id": "262cffc3-9eab-4fb5-aafa-6926a1fdcd4b",
   "metadata": {},
   "outputs": [],
   "source": [
    "num_epochs = 1000\n",
    "batch_size = 4200\n",
    "PATIENCE = 5\n",
    "\n",
    "LR = 0.0004"
   ]
  },
  {
   "cell_type": "code",
   "execution_count": 15,
   "id": "62c948a7-d4f3-4969-a8fc-2bbff239b4a9",
   "metadata": {},
   "outputs": [],
   "source": [
    "# model = CNN().to(device)\n",
    "model = VGG16(K1=16, K2=16, K3=32, K4=48, K5=48).to(device)"
   ]
  },
  {
   "cell_type": "code",
   "execution_count": 25,
   "id": "8f1d2a00-1b36-409d-aabe-c2eaa515beb0",
   "metadata": {
    "scrolled": true
   },
   "outputs": [
    {
     "name": "stdout",
     "output_type": "stream",
     "text": [
      "Epoch 1, Training loss: 2.9368, Validation loss: 2.9739\n",
      "Epoch 2, Training loss: 2.9361, Validation loss: 2.9725\n",
      "Epoch 3, Training loss: 2.9355, Validation loss: 2.9714\n",
      "Epoch 4, Training loss: 2.9351, Validation loss: 2.9708\n",
      "Epoch 5, Training loss: 2.9350, Validation loss: 2.9710\n",
      "Epoch 6, Training loss: 2.9350, Validation loss: 2.9710\n",
      "Epoch 7, Training loss: 2.9348, Validation loss: 2.9712\n",
      "Epoch 8, Training loss: 2.9348, Validation loss: 2.9713\n"
     ]
    },
    {
     "ename": "KeyboardInterrupt",
     "evalue": "",
     "output_type": "error",
     "traceback": [
      "\u001b[1;31m---------------------------------------------------------------------------\u001b[0m",
      "\u001b[1;31mKeyboardInterrupt\u001b[0m                         Traceback (most recent call last)",
      "Cell \u001b[1;32mIn[25], line 31\u001b[0m\n\u001b[0;32m     28\u001b[0m     \u001b[38;5;66;03m# apply gradients             \u001b[39;00m\n\u001b[0;32m     29\u001b[0m     optimizer\u001b[38;5;241m.\u001b[39mstep()                \n\u001b[1;32m---> 31\u001b[0m     epoch_loss \u001b[38;5;241m+\u001b[39m\u001b[38;5;241m=\u001b[39m \u001b[43mloss\u001b[49m\u001b[38;5;241;43m.\u001b[39;49m\u001b[43mitem\u001b[49m\u001b[43m(\u001b[49m\u001b[43m)\u001b[49m\n\u001b[0;32m     33\u001b[0m train_loss \u001b[38;5;241m=\u001b[39m (epoch_loss\u001b[38;5;241m/\u001b[39mtrain_total_step)\n\u001b[0;32m     35\u001b[0m \u001b[38;5;66;03m# validation error\u001b[39;00m\n",
      "\u001b[1;31mKeyboardInterrupt\u001b[0m: "
     ]
    }
   ],
   "source": [
    "optimizer = optim.Adam(model.parameters(), lr = LR) \n",
    "# Train the model\n",
    "train_total_step = math.ceil(train_images.shape[0] / batch_size)\n",
    "val_total_step = math.ceil(validate_images.shape[0] / batch_size)\n",
    "\n",
    "prev_val_loss = math.inf\n",
    "patience = PATIENCE\n",
    "for epoch in range(num_epochs):\n",
    "    model.train()\n",
    "    epoch_loss = 0\n",
    "    for i in range(train_total_step):\n",
    "        # clear gradients for this training step   \n",
    "        optimizer.zero_grad()  \n",
    "        \n",
    "        # gives batch data, normalize x when iterate train_loader\n",
    "        if ((i+1)*batch_size > train_images.shape[0]):\n",
    "            b_x = train_images[i*batch_size:]  # batch x\n",
    "            b_y = train_labels[i*batch_size:]   # batch y\n",
    "        else:\n",
    "            b_x = train_images[i*batch_size:(i+1)*batch_size]  # batch x\n",
    "            b_y = train_labels[i*batch_size:(i+1)*batch_size]   # batch y\n",
    "\n",
    "        output = model(b_x)               \n",
    "        loss = loss_func(output, b_y)\n",
    "        \n",
    "        # backpropagation, compute gradients \n",
    "        loss.backward()    \n",
    "        # apply gradients             \n",
    "        optimizer.step()                \n",
    "\n",
    "        epoch_loss += loss.item()\n",
    "        \n",
    "    train_loss = (epoch_loss/train_total_step)\n",
    "\n",
    "    # validation error\n",
    "    model.eval()\n",
    "    val_epoch_loss = 0\n",
    "    for i in range(val_total_step):\n",
    "        # gives batch data, normalize x when iterate train_loader\n",
    "        if ((i+1)*batch_size > validate_images.shape[0]):\n",
    "            b_x = validate_images[i*batch_size:]  # batch x\n",
    "            b_y = validate_labels[i*batch_size:]   # batch y\n",
    "        else:\n",
    "            b_x = validate_images[i*batch_size:(i+1)*batch_size]  # batch x\n",
    "            b_y = validate_labels[i*batch_size:(i+1)*batch_size]   # batch y\n",
    "\n",
    "        output = model(b_x)               \n",
    "        loss = loss_func(output, b_y)             \n",
    "        val_epoch_loss += loss.item()\n",
    "    val_loss = (val_epoch_loss/val_total_step)\n",
    "    \n",
    "    print (f'Epoch {epoch+1}, Training loss: {train_loss:.4f}, Validation loss: {val_loss:.4f}')\n",
    "    if ((val_loss > prev_val_loss) and (val_loss-prev_val_loss)>0.0005):\n",
    "        patience -= 1\n",
    "        print(f'Patience left: {patience}')\n",
    "        if patience < 0:\n",
    "            print(f'Early stopped')\n",
    "            break\n",
    "    else:\n",
    "        patience += 0.5\n",
    "        if patience > PATIENCE:\n",
    "            patience = PATIENCE\n",
    "    prev_val_loss = val_loss"
   ]
  },
  {
   "cell_type": "code",
   "execution_count": 26,
   "id": "c0345bef-bf53-486c-a5d3-f02b42c7f03a",
   "metadata": {},
   "outputs": [
    {
     "name": "stdout",
     "output_type": "stream",
     "text": [
      "Test accuracy: 0.9258567463096998\n"
     ]
    }
   ],
   "source": [
    "test_batch_size = batch_size\n",
    "\n",
    "model.eval()\n",
    "# Test the model\n",
    "total_step = math.ceil(test_images.shape[0] / test_batch_size)\n",
    "\n",
    "correct_num = 0\n",
    "for i in range(total_step):\n",
    "    # gives batch data, normalize x when iterate train_loader\n",
    "    if ((i+1)*test_batch_size > test_images.shape[0]):\n",
    "        b_x = test_images[i*test_batch_size:]  # batch x\n",
    "        b_y = test_labels[i*test_batch_size:]   # batch y\n",
    "    else:\n",
    "        b_x = test_images[i*test_batch_size:(i+1)*test_batch_size]  # batch x\n",
    "        b_y = test_labels[i*test_batch_size:(i+1)*test_batch_size]   # batch y\n",
    "\n",
    "    output = model(b_x)\n",
    "    predicted = torch.argmax(output, dim=1)\n",
    "    ground_truth = torch.argmax(b_y, dim=1)\n",
    "    matched_num = torch.count_nonzero((predicted == ground_truth)).item()\n",
    "    correct_num += matched_num\n",
    "\n",
    "print(f\"Test accuracy: {correct_num/test_images.shape[0]}\")"
   ]
  },
  {
   "cell_type": "markdown",
   "id": "e1e3ab37-78bb-4f3e-9d42-59db3277b63e",
   "metadata": {},
   "source": [
    "Save the model:"
   ]
  },
  {
   "cell_type": "code",
   "execution_count": 27,
   "id": "9bc3c64b-be33-4336-9708-eae093cbd382",
   "metadata": {},
   "outputs": [],
   "source": [
    "torch.save(model.state_dict(), \"VGG16.pt\")\n",
    "\n",
    "# TO load the model for evaluation:\n",
    "#model = TheModelClass(*args, **kwargs)\n",
    "#model.load_state_dict(torch.load(PATH))\n",
    "#model.eval()"
   ]
  },
  {
   "cell_type": "code",
   "execution_count": 28,
   "id": "b6f940b9-9b4c-45b5-b1be-38c0b6db617f",
   "metadata": {},
   "outputs": [
    {
     "data": {
      "text/plain": [
       "VGG16(\n",
       "  (conv1): Sequential(\n",
       "    (0): Conv2d(1, 16, kernel_size=(3, 3), stride=(1, 1), padding=(1, 1))\n",
       "    (1): ReLU()\n",
       "    (2): Conv2d(16, 16, kernel_size=(3, 3), stride=(1, 1), padding=(1, 1))\n",
       "    (3): ReLU()\n",
       "    (4): MaxPool2d(kernel_size=2, stride=2, padding=0, dilation=1, ceil_mode=False)\n",
       "  )\n",
       "  (conv2): Sequential(\n",
       "    (0): Conv2d(16, 16, kernel_size=(3, 3), stride=(1, 1), padding=(1, 1))\n",
       "    (1): ReLU()\n",
       "    (2): Conv2d(16, 16, kernel_size=(3, 3), stride=(1, 1), padding=(1, 1))\n",
       "    (3): ReLU()\n",
       "    (4): MaxPool2d(kernel_size=2, stride=2, padding=0, dilation=1, ceil_mode=False)\n",
       "  )\n",
       "  (conv3): Sequential(\n",
       "    (0): Conv2d(16, 32, kernel_size=(3, 3), stride=(1, 1), padding=(1, 1))\n",
       "    (1): ReLU()\n",
       "    (2): Conv2d(32, 32, kernel_size=(3, 3), stride=(1, 1), padding=(1, 1))\n",
       "    (3): ReLU()\n",
       "    (4): Conv2d(32, 32, kernel_size=(3, 3), stride=(1, 1), padding=(1, 1))\n",
       "    (5): ReLU()\n",
       "  )\n",
       "  (conv4): Sequential(\n",
       "    (0): Conv2d(32, 48, kernel_size=(3, 3), stride=(1, 1), padding=(1, 1))\n",
       "    (1): ReLU()\n",
       "    (2): Conv2d(48, 48, kernel_size=(3, 3), stride=(1, 1), padding=(1, 1))\n",
       "    (3): ReLU()\n",
       "    (4): Conv2d(48, 48, kernel_size=(3, 3), stride=(1, 1), padding=(1, 1))\n",
       "    (5): ReLU()\n",
       "  )\n",
       "  (conv5): Sequential(\n",
       "    (0): Conv2d(48, 48, kernel_size=(3, 3), stride=(1, 1), padding=(1, 1))\n",
       "    (1): ReLU()\n",
       "    (2): Conv2d(48, 48, kernel_size=(3, 3), stride=(1, 1), padding=(1, 1))\n",
       "    (3): ReLU()\n",
       "    (4): Conv2d(48, 48, kernel_size=(3, 3), stride=(1, 1), padding=(1, 1))\n",
       "    (5): ReLU()\n",
       "  )\n",
       "  (linear1): Linear(in_features=2352, out_features=1024, bias=True)\n",
       "  (sigmoid1): Sigmoid()\n",
       "  (linear2): Linear(in_features=1024, out_features=256, bias=True)\n",
       "  (sigmoid2): Sigmoid()\n",
       "  (linear3): Linear(in_features=256, out_features=49, bias=True)\n",
       "  (softmax_out): Softmax(dim=1)\n",
       ")"
      ]
     },
     "execution_count": 28,
     "metadata": {},
     "output_type": "execute_result"
    }
   ],
   "source": [
    "model"
   ]
  },
  {
   "cell_type": "code",
   "execution_count": 19,
   "id": "112c8d7c-087c-41f7-bc76-bfdc66d90285",
   "metadata": {},
   "outputs": [],
   "source": [
    "# new_model = VGG()\n",
    "# new_model.load_state_dict(torch.load(\"VGG-64_128_256.pt\"))\n",
    "# new_model.eval()"
   ]
  }
 ],
 "metadata": {
  "kernelspec": {
   "display_name": "Python 3 (ipykernel)",
   "language": "python",
   "name": "python3"
  },
  "language_info": {
   "codemirror_mode": {
    "name": "ipython",
    "version": 3
   },
   "file_extension": ".py",
   "mimetype": "text/x-python",
   "name": "python",
   "nbconvert_exporter": "python",
   "pygments_lexer": "ipython3",
   "version": "3.12.2"
  }
 },
 "nbformat": 4,
 "nbformat_minor": 5
}
