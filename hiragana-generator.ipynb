{
 "cells": [
  {
   "cell_type": "code",
   "execution_count": 25,
   "id": "86587c0b-a56f-49de-b7f9-75c0f86a13cb",
   "metadata": {},
   "outputs": [],
   "source": [
    "import numpy as np\n",
    "import pandas as pd\n",
    "import os"
   ]
  },
  {
   "cell_type": "code",
   "execution_count": 26,
   "id": "2f3615ce-4a7c-4b22-b6b1-8d82d5002a56",
   "metadata": {},
   "outputs": [],
   "source": [
    "DATASET_DIR = 'Kuzushiji-49'\n",
    "DATASET_TRAIN_X_FILE = 'k49-train-imgs.npz'\n",
    "DATASET_TRAIN_Y_FILE = 'k49-train-labels.npz'\n",
    "DATASET_TEST_X_FILE = 'k49-test-imgs.npz'\n",
    "DATASET_TEST_Y_FILE = 'k49-test-labels.npz'"
   ]
  },
  {
   "cell_type": "code",
   "execution_count": 27,
   "id": "0fe7d2ee-fde5-40c9-a6a9-51f53ddb0be4",
   "metadata": {},
   "outputs": [],
   "source": [
    "train_images = np.load(os.path.join(os.getcwd(), DATASET_DIR, DATASET_TRAIN_X_FILE))['arr_0']\n",
    "train_labels = np.load(os.path.join(os.getcwd(), DATASET_DIR, DATASET_TRAIN_Y_FILE))['arr_0']\n",
    "test_images = np.load(os.path.join(os.getcwd(), DATASET_DIR, DATASET_TEST_X_FILE))['arr_0']\n",
    "test_labels = np.load(os.path.join(os.getcwd(), DATASET_DIR, DATASET_TEST_Y_FILE))['arr_0']"
   ]
  }
 ],
 "metadata": {
  "kernelspec": {
   "display_name": "Python 3 (ipykernel)",
   "language": "python",
   "name": "python3"
  },
  "language_info": {
   "codemirror_mode": {
    "name": "ipython",
    "version": 3
   },
   "file_extension": ".py",
   "mimetype": "text/x-python",
   "name": "python",
   "nbconvert_exporter": "python",
   "pygments_lexer": "ipython3",
   "version": "3.9.18"
  }
 },
 "nbformat": 4,
 "nbformat_minor": 5
}
