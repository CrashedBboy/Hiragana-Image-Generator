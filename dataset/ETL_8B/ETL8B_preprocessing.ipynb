{
 "cells": [
  {
   "cell_type": "code",
   "execution_count": 1,
   "id": "5b2f1336-c9db-4272-a38e-d33d0f043bff",
   "metadata": {},
   "outputs": [],
   "source": [
    "import logging\n",
    "import os\n",
    "import copy\n",
    "import math\n",
    "import pathlib\n",
    "from datetime import datetime\n",
    "import csv\n",
    "\n",
    "# 3rd Party\n",
    "import numpy as np\n",
    "import pandas as pd\n",
    "from tqdm import tqdm\n",
    "import matplotlib.pyplot as plt\n",
    "from PIL import Image\n",
    "\n",
    "# Pytorch\n",
    "import torch\n",
    "import torch.nn as nn\n",
    "import torch.nn.functional as F\n",
    "from torch import optim\n",
    "from torch.autograd import Variable\n",
    "import torchvision\n",
    "import torchvision.transforms as transforms\n"
   ]
  },
  {
   "cell_type": "code",
   "execution_count": 2,
   "id": "079a950e-3e14-4f7e-b4be-b06170be8a8c",
   "metadata": {},
   "outputs": [
    {
     "name": "stdout",
     "output_type": "stream",
     "text": [
      "Using device: NVIDIA GeForce GTX 1060 6GB\n"
     ]
    }
   ],
   "source": [
    "# Japanese compatible font\n",
    "plt.rcParams['font.sans-serif'] = \"Microsoft YaHei\" \n",
    "\n",
    "# Computation device setup\n",
    "device = torch.device('cuda' if torch.cuda.is_available() else 'cpu')\n",
    "# device = torch.device('cpu')\n",
    "if torch.cuda.is_available():\n",
    "    print(f\"Using device: {torch.cuda.get_device_name(0)}\")\n",
    "    os.environ['CUDA_LAUNCH_BLOCKING'] = \"0\"\n",
    "else:\n",
    "    print(f\"Using device: CPU\")"
   ]
  },
  {
   "cell_type": "code",
   "execution_count": 3,
   "id": "8b9822f8-5ab1-4e32-9d11-f5ae88fb6459",
   "metadata": {},
   "outputs": [],
   "source": [
    "DATASET_DIR = ''\n",
    "DATASET_FILE = 'ETL8B2C1.csv'\n",
    "TEST_EXAMPLES_PER_CLASS = 16\n",
    "TRAIN_SET_FILE = 'ETL8B2C1_train.csv'\n",
    "TEST_SET_FILE = 'ETL8B2C1_test.csv'\n",
    "\n",
    "train_rows = []\n",
    "test_rows = []\n",
    "label_count = {}\n",
    "with open(os.path.join(DATASET_DIR, DATASET_FILE), 'r') as csv_file:\n",
    "    csvreader = csv.reader(csv_file)\n",
    "    for data in csvreader:\n",
    "        l = data[0]\n",
    "        # img = [int(a) for a in data[1:]]\n",
    "        if l not in label_count.keys():\n",
    "            label_count[l] = 0\n",
    "        if label_count[l] < TEST_EXAMPLES_PER_CLASS:\n",
    "            label_count[l] += 1\n",
    "            test_rows.append(data)\n",
    "        else:\n",
    "            train_rows.append(data)\n",
    "\n",
    "with open(os.path.join(DATASET_DIR, TRAIN_SET_FILE), 'w', encoding=\"utf-8\", newline='') as f:\n",
    "    writer = csv.writer(f)\n",
    "    writer.writerows(train_rows)\n",
    "\n",
    "with open(os.path.join(DATASET_DIR, TEST_SET_FILE), 'w', encoding=\"utf-8\", newline='') as f:\n",
    "    writer = csv.writer(f)\n",
    "    writer.writerows(test_rows)"
   ]
  }
 ],
 "metadata": {
  "kernelspec": {
   "display_name": "Python 3 (ipykernel)",
   "language": "python",
   "name": "python3"
  },
  "language_info": {
   "codemirror_mode": {
    "name": "ipython",
    "version": 3
   },
   "file_extension": ".py",
   "mimetype": "text/x-python",
   "name": "python",
   "nbconvert_exporter": "python",
   "pygments_lexer": "ipython3",
   "version": "3.12.2"
  }
 },
 "nbformat": 4,
 "nbformat_minor": 5
}
